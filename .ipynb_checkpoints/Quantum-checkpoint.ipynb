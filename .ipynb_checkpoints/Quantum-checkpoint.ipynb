{
 "cells": [
  {
   "cell_type": "markdown",
   "metadata": {},
   "source": [
    "# Computación cuántica. \n",
    "\n",
    "## Bits y qubits\n",
    "\n",
    "**Computación clásica:** \n",
    "\n",
    "- Bits: Unidad básica de información. 0 y 1.\n",
    "\n",
    "**Computación cuántica:** \n",
    "\n",
    "- Qubit: Unidad básica de información que pueden estar en una combinación de $|0>$  o $|1>$ , estos estados se llaman estados básicos o también pueden estar en una combinación de ambos estados $\\alpha_0 |0> + \\alpha_1 |1>$ \n",
    "\n",
    " y a esta combinación se les llama superposición. Esta notación se llama notación de dirac.\n",
    "\n",
    "**¿Cuál es la diferencia entre los bits y los qubits?**\n",
    "\n",
    "Cuando observamos el qubit pasamos a un estado básico, pero si no lo observamos realmente va a estar en un estado de super posición en donde lo podemos manipular y esa es magia de la computación cuántica.  \n",
    "\n",
    "## Formalismo o modelo matemático:\n",
    "\n",
    "Vemos $| \\hspace{0.1cm} 0>y | \\hspace{0.1cm} 1>$ como los vectores $\\begin{pmatrix}1\\\\0\\end{pmatrix}$ y  $\\begin{pmatrix}0\\\\1\\end{pmatrix}$ respectivamente que forman una vase de $\\mathbb{C}^2$. Entonces, un estado en superposición es una combinación lineal $\\alpha_0 \\begin{pmatrix}1\\\\0\\end{pmatrix}+\\alpha_1\\begin{pmatrix}0\\\\1\\end{pmatrix}$donde $\\alpha_0, \\alpha_1$ $\\in$ $\\mathbb{C}$, ósea donde alpha 0 y alpha 1 pertenecen a los complejos, tales $|\\alpha_0|^2+|\\alpha_1|^2=1$ la suma de estas normas es uno. A la suma de estos coeficientes los llamamos amplitud de $\\alpha_0 \\hspace{0.1cm} y \\hspace{0.1cm} \\alpha_1$ respectivamente.  \n",
    "\n",
    "El problema es que no podemos observar al qubit para conocer su estado, si tengo un qubit que sé que está en un estado de super posición, en qué estado está, no puedo saberlo observando, esa es la dificultad pero a la vez es el poder de este tipo de computación, porque cuando lo observe va a colapsar a un estado básico, al estado $| \\hspace{0.1cm} 0>$ con probabilidad $| \\hspace{0.1cm} \\alpha_0 \\hspace{0.1cm} |^2$ y al estado $| \\hspace{0.1cm} 1>$  con probabilidad $| \\hspace{0.1cm} \\alpha_1|^2$. Las normas tienen que sumar 1 para que sea una distribución de probabilidad, entonces cuando yo observo yo no sé cuanto vale el qubit, peor al abrevarlo colapsará, si tengo que $\\alpha_0=1$ colapsará siempre al estado 0, pero si tengo que $\\alpha_1 = 1$ siempre colapsará al estado 1 y si no colapsará unas veces a uno o a otro dependiendo de la distribución de probabilidad que representan esos qubits. \n",
    "\n",
    "Nuestra misión en computación cuántica es tener unos qubits, ir manejando sin observar los qubits y los estados de esos qubits para llegar sea útil, ya sea 1 o n veces hasta el punto de que observe lo que observe sea la respuesta a nuestro problema. Si solo manejo en estados básicos, ese es computación cuántica."
   ]
  },
  {
   "cell_type": "markdown",
   "metadata": {},
   "source": [
    "## Extensión de la notación a varios Qubits\n",
    "\n",
    "Los estados básicos se denotan por $| \\hspace{0.1cm} 0 ... 0>$ , $| \\hspace{0.1cm} 0 ... 1>$ , $...$ , $| \\hspace{0.1cm} 1 ... 1>$ , entonces con $n$ qubits tenemos $2^{n}$ estados basicos, una base de n qubits es una base de $C$ elevado a la $2^{n}$. Cada estado básico corresponde a un vector de la base canónica de $C^{n^2}$ dado por \n",
    "\n",
    "\n",
    "$\\left.\\begin{array}{c} | \\hspace{0.1cm} a_{(2,n)} > \\hspace{0.3cm} = \\begin{pmatrix}0\\\\.\\\\.\\\\.\\\\1\\\\.\\\\.\\\\.\\\\0\\end{pmatrix} \\leftarrow a  \\end{array}\\right\\rbrace 2^{n}$\n",
    "\n",
    "La expresión binaria de la cantidad $a$ con $n$ bits corresponde al vector que tiene solo 1 y todos ceros con una base de $2^{n}$"
   ]
  },
  {
   "cell_type": "markdown",
   "metadata": {},
   "source": [
    "Los estados en superposición son combinaciones lineales de la forma \n",
    "\n",
    "$\\alpha_0 \\hspace{0.1cm} | \\hspace{0.1cm} 0...0> + ... + \\alpha_{2^{n}-1} |1...1|> con \\hspace{0.2cm}  \\alpha_i$ $\\in$ $\\mathbb{C} \\hspace{0.2cm} tales \\hspace{0.1cm} que \\hspace{0.2cm} |\\alpha_0|^2 + ... |\\alpha_{2^{n}-1}|^2 = 1 $"
   ]
  },
  {
   "cell_type": "markdown",
   "metadata": {},
   "source": [
    "### Ejemplo:\n",
    "\n",
    "$n = 2$ Los estados básicos de 2 qubits son $|00>, |01>, |10>,|11>$ son $2^{n}$ estados básicos. Y los estados en superposición lucen así: $ \\alpha_0 | \\hspace{0.1cm} 00> + \\alpha_1 | \\hspace{0.1cm} 01> + \\alpha_2 | \\hspace{0.1cm} 10> + \\alpha_3 | \\hspace{0.1cm} 11> \\hspace{0.3cm} $ que es una combinación lineal de los elementos de la base. \n",
    "\n",
    ">**Nota:** Expresión matemática de las relaciones entre qubits. \n",
    "\n",
    "$| \\hspace{0.1cm} 0 0 >$: Este estado en qubits corresponde al producto de 2 estados básicos de quibits independientes. Este es un sistema de 2 qbits donde cada uno de los componentes de ese sistema es una componente. El estado básico es el producto de estados basicos de cada uno de las componentes. Osea sería igual a $\\hspace{0.1cm}|\\hspace{0.1cm}0> \\otimes \\hspace{0.1cm} |\\hspace{0.1cm}0\\hspace{0.1cm}>$ y esto es un producto tensorial, por lo tanto, un sistema de n qubits lo puedo reprentar como el producto tensorial de n sistemas de qubits y entre esas matrices también tenemos un produto tensorial que nos permite expresar un sitema de qubits en funcion de sus componentes.\n",
    "Entonces el estado $\\hspace{0.1cm}|\\hspace{0.1cm}0\\hspace{0.1cm}1\\hspace{0.1cm}>$ va a ser el producto de $|\\hspace{0.1cm}0> \\otimes \\hspace{0.1cm} |\\hspace{0.1cm}1>$ asi sucesivamente. \n",
    "\n",
    "\n",
    "\n",
    "\n"
   ]
  },
  {
   "cell_type": "markdown",
   "metadata": {},
   "source": [
    "Ahora vamos a desarrollar el producto tensorial del primer estado con el producto de Kronecker: \n",
    "\n",
    "$\\begin{pmatrix} 1 & \\begin{pmatrix}1\\\\0\\end{pmatrix} \\\\ 0 & \\begin{pmatrix}0\\\\1\\end{pmatrix} \\end{pmatrix}$  Una matriz que tiene cada una de las entradas la priera matriz multiplicada por la otra matriz y esto es igual a $=$  $\\begin{pmatrix}1\\\\0\\\\0\\\\0\\end{pmatrix}$"
   ]
  },
  {
   "cell_type": "markdown",
   "metadata": {},
   "source": []
  },
  {
   "cell_type": "markdown",
   "metadata": {},
   "source": []
  },
  {
   "cell_type": "markdown",
   "metadata": {},
   "source": []
  },
  {
   "cell_type": "markdown",
   "metadata": {},
   "source": []
  }
 ],
 "metadata": {
  "kernelspec": {
   "display_name": "Python 3",
   "language": "python",
   "name": "python3"
  },
  "language_info": {
   "codemirror_mode": {
    "name": "ipython",
    "version": 3
   },
   "file_extension": ".py",
   "mimetype": "text/x-python",
   "name": "python",
   "nbconvert_exporter": "python",
   "pygments_lexer": "ipython3",
   "version": "3.8.8"
  }
 },
 "nbformat": 4,
 "nbformat_minor": 4
}
